{
  "nbformat": 4,
  "nbformat_minor": 0,
  "metadata": {
    "colab": {
      "name": "mathdata.ipynb",
      "provenance": [],
      "authorship_tag": "ABX9TyMnm4Qgv5iLruWRwmiTqsiK",
      "include_colab_link": true
    },
    "kernelspec": {
      "name": "python3",
      "display_name": "Python 3"
    }
  },
  "cells": [
    {
      "cell_type": "markdown",
      "metadata": {
        "id": "view-in-github",
        "colab_type": "text"
      },
      "source": [
        "<a href=\"https://colab.research.google.com/github/Ajita-Shri/Sparse-Optical-Flow/blob/master/mathdata.ipynb\" target=\"_parent\"><img src=\"https://colab.research.google.com/assets/colab-badge.svg\" alt=\"Open In Colab\"/></a>"
      ]
    },
    {
      "cell_type": "code",
      "metadata": {
        "id": "gf9XCkmOGbyc",
        "colab_type": "code",
        "colab": {}
      },
      "source": [
        "import pandas as pd\n",
        "import numpy as np\n",
        "import tensorflow as tf\n",
        "dataset = pd.read_csv('student-mat.csv')\n",
        "X = dataset.iloc[:,0:32].values\n",
        "y= dataset.iloc[:,32].values"
      ],
      "execution_count": 4,
      "outputs": []
    },
    {
      "cell_type": "code",
      "metadata": {
        "id": "AEQsTya9eYej",
        "colab_type": "code",
        "colab": {}
      },
      "source": [
        "from sklearn.preprocessing import LabelEncoder\n",
        "le= LabelEncoder()\n",
        "X[:, 0] = le.fit_transform(X[:, 0])\n",
        "X[:, 1] = le.fit_transform(X[:, 1])\n",
        "X[:, 3] = le.fit_transform(X[:, 3])\n",
        "X[:, 4] = le.fit_transform(X[:, 4])\n",
        "X[:, 5] = le.fit_transform(X[:, 5])\n",
        "X[:, 8] = le.fit_transform(X[:, 8])\n",
        "X[:, 9] = le.fit_transform(X[:, 9])\n",
        "X[:, 10] = le.fit_transform(X[:, 10])\n",
        "X[:, 11] = le.fit_transform(X[:, 11])\n",
        "X[:, 15] = le.fit_transform(X[:, 15])\n",
        "X[:, 16] = le.fit_transform(X[:, 16])\n",
        "X[:, 17] = le.fit_transform(X[:, 17])\n",
        "X[:, 18] = le.fit_transform(X[:, 18])\n",
        "X[:, 19] = le.fit_transform(X[:, 19])\n",
        "X[:, 20] = le.fit_transform(X[:, 20])\n",
        "X[:, 21] = le.fit_transform(X[:, 21])\n",
        "X[:, 22] = le.fit_transform(X[:, 22])"
      ],
      "execution_count": 5,
      "outputs": []
    },
    {
      "cell_type": "code",
      "metadata": {
        "id": "twzE9kAWkxcO",
        "colab_type": "code",
        "colab": {}
      },
      "source": [
        "from sklearn.preprocessing import OneHotEncoder\n",
        "from sklearn.compose import ColumnTransformer\n",
        "ct = ColumnTransformer([('one_hot_encoder', OneHotEncoder(), [8,9,10,11])], remainder='passthrough')\n",
        "X= np.array(ct.fit_transform(X), dtype= np.float)\n"
      ],
      "execution_count": 14,
      "outputs": []
    },
    {
      "cell_type": "code",
      "metadata": {
        "id": "LGQwZEJyn_H2",
        "colab_type": "code",
        "colab": {}
      },
      "source": [
        "from sklearn.model_selection import train_test_split\n",
        "X_train, X_test, y_train, y_test = train_test_split(X, y, test_size = 0.2, random_state = 101)\n",
        "from sklearn.preprocessing import StandardScaler\n",
        "sc = StandardScaler()\n",
        "X_train = sc.fit_transform(X_train)\n",
        "X_test = sc.transform(X_test)"
      ],
      "execution_count": 22,
      "outputs": []
    },
    {
      "cell_type": "code",
      "metadata": {
        "id": "cUQEzqVZoIDw",
        "colab_type": "code",
        "colab": {
          "base_uri": "https://localhost:8080/",
          "height": 534
        },
        "outputId": "75617245-30a9-4412-dda2-efc69898a43f"
      },
      "source": [
        "from sklearn.linear_model import LinearRegression\n",
        "lr= LinearRegression()\n",
        "lr.fit(X_train, y_train)\n",
        "print('m :', lr.coef_)\n",
        "print('c: ',lr.intercept_)\n",
        "y_pred= lr.predict(X_test)\n",
        "\n",
        "\n",
        "import seaborn as sns\n",
        "sns.distplot(y_test-y_pred, bins=50)\n",
        "from sklearn import metrics\n",
        "print('MAE:', metrics.mean_absolute_error(y_test, y_pred))\n",
        "accuracy= lr.score(X_test,y_test)\n",
        "print('RMSE: ',np.sqrt(metrics.mean_squared_error(y_test, y_pred)))\n",
        "print('Accuracy :', accuracy)"
      ],
      "execution_count": 28,
      "outputs": [
        {
          "output_type": "stream",
          "text": [
            "m : [-3.48101413e+09 -2.60006038e+09 -4.59946959e+09 -3.98806591e+09\n",
            " -3.30665331e+09 -2.49942855e+13 -2.21903336e+13 -5.37083500e+13\n",
            " -4.83398280e+13 -2.85688914e+13  6.09687311e+13  5.63003280e+13\n",
            "  3.40212336e+13  5.60979126e+13 -2.39696946e+13 -2.62214713e+13\n",
            " -1.54111751e+13  9.90625872e-02  8.52886799e-02 -3.07437518e-01\n",
            "  1.22602661e-02  8.39813686e-02 -4.85825501e-02  1.40235267e-01\n",
            " -1.12240439e-01 -8.95687845e-03 -4.96994772e-02 -1.14676621e-01\n",
            "  1.30561253e-01  5.62871919e-03  1.66277882e-01 -1.03052734e-01\n",
            " -1.17331080e-01 -5.39709330e-02 -2.37720013e-02 -1.50398374e-01\n",
            "  2.35504031e-01  1.17298365e-01  1.08680129e-01 -1.37586266e-01\n",
            "  1.82874531e-01  1.44415975e-01  4.18253928e-01  7.93535948e-01\n",
            "  3.47597170e+00]\n",
            "c:  10.26494461575191\n",
            "MAE: 1.2659063432761404\n",
            "RMSE:  1.7857548383200543\n",
            "Accuracy : 0.8315954318999532\n"
          ],
          "name": "stdout"
        },
        {
          "output_type": "display_data",
          "data": {
            "image/png": "[encoded data removed]",
            "text/plain": [
              "<Figure size 432x288 with 1 Axes>"
            ]
          },
          "metadata": {
            "tags": [],
            "needs_background": "light"
          }
        }
      ]
    }
  ]
}